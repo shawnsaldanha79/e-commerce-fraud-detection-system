{
 "cells": [
  {
   "cell_type": "code",
   "execution_count": null,
   "id": "ff5d678a",
   "metadata": {
    "execution": {
     "iopub.execute_input": "2024-04-14T03:04:38.212611Z",
     "iopub.status.busy": "2024-04-14T03:04:38.212338Z",
     "iopub.status.idle": "2024-04-14T03:04:43.775501Z",
     "shell.execute_reply": "2024-04-14T03:04:43.774615Z"
    },
    "papermill": {
     "duration": 5.583516,
     "end_time": "2024-04-14T03:04:43.777943",
     "exception": false,
     "start_time": "2024-04-14T03:04:38.194427",
     "status": "completed"
    },
    "tags": []
   },
   "outputs": [],
   "source": [
    "import numpy as np \n",
    "import pandas as pd\n",
    "from sklearn.compose import ColumnTransformer\n",
    "from sklearn.pipeline import Pipeline\n",
    "from sklearn.preprocessing import StandardScaler, OneHotEncoder\n",
    "from sklearn.linear_model import LogisticRegression\n",
    "from sklearn.naive_bayes import BernoulliNB\n",
    "from sklearn.tree import DecisionTreeClassifier \n",
    "from sklearn.ensemble import RandomForestClassifier\n",
    "from xgboost import XGBClassifier\n",
    "import time\n",
    "import optuna\n",
    "from sklearn.metrics import accuracy_score, confusion_matrix, classification_report"
   ]
  },
  {
   "cell_type": "code",
   "execution_count": null,
   "id": "14d6ded3",
   "metadata": {},
   "outputs": [],
   "source": [
    "# Download the datasets\n",
    "gdown.download('https://drive.google.com/uc?id=1WY6FU7bmZitRwdho89yrtgMGoOGEi9N5')\n",
    "gdown.download('https://drive.google.com/uc?id=1o-3j2Ugp_Btmw3hMIbRcuQoqhGTY_gBz')"
   ]
  },
  {
   "cell_type": "code",
   "execution_count": null,
   "id": "34da3872",
   "metadata": {
    "execution": {
     "iopub.execute_input": "2024-04-14T03:04:43.843123Z",
     "iopub.status.busy": "2024-04-14T03:04:43.842709Z",
     "iopub.status.idle": "2024-04-14T03:04:58.434423Z",
     "shell.execute_reply": "2024-04-14T03:04:58.433627Z"
    },
    "papermill": {
     "duration": 14.610483,
     "end_time": "2024-04-14T03:04:58.436707",
     "exception": false,
     "start_time": "2024-04-14T03:04:43.826224",
     "status": "completed"
    },
    "tags": []
   },
   "outputs": [],
   "source": [
    "train_df = pd.read_csv('Fraudulent_E-Commerce_Transaction_Data.csv')"
   ]
  },
  {
   "cell_type": "code",
   "execution_count": null,
   "id": "67ac5447",
   "metadata": {
    "execution": {
     "iopub.execute_input": "2024-04-14T03:04:58.470565Z",
     "iopub.status.busy": "2024-04-14T03:04:58.469941Z",
     "iopub.status.idle": "2024-04-14T03:04:58.749466Z",
     "shell.execute_reply": "2024-04-14T03:04:58.748670Z"
    },
    "papermill": {
     "duration": 0.299018,
     "end_time": "2024-04-14T03:04:58.751837",
     "exception": false,
     "start_time": "2024-04-14T03:04:58.452819",
     "status": "completed"
    },
    "tags": []
   },
   "outputs": [],
   "source": [
    "test_df = pd.read_csv('Fraudulent_E-Commerce_Transaction_Data_2.csv')"
   ]
  },
  {
   "cell_type": "code",
   "execution_count": 14,
   "id": "b304c7f5",
   "metadata": {
    "execution": {
     "iopub.execute_input": "2024-04-14T03:05:21.509994Z",
     "iopub.status.busy": "2024-04-14T03:05:21.509343Z",
     "iopub.status.idle": "2024-04-14T03:05:21.519692Z",
     "shell.execute_reply": "2024-04-14T03:05:21.518880Z"
    },
    "papermill": {
     "duration": 0.088228,
     "end_time": "2024-04-14T03:05:21.521579",
     "exception": false,
     "start_time": "2024-04-14T03:05:21.433351",
     "status": "completed"
    },
    "tags": []
   },
   "outputs": [],
   "source": [
    "def clean_data(df) -> pd.DataFrame:\n",
    "    df[\"Transaction Date\"] = pd.to_datetime(df[\"Transaction Date\"])\n",
    "    df['Transaction Day'] = df[\"Transaction Date\"].dt.day\n",
    "    df[\"Transaction DOW\"] = df[\"Transaction Date\"].dt.day_of_week\n",
    "    df[\"Transaction Month\"] = df[\"Transaction Date\"].dt.month\n",
    "    mean_value = np.round(df['Customer Age'].mean(),0) \n",
    "    df['Customer Age'] = np.where(df['Customer Age'] <= -9, \n",
    "                                    np.abs(df['Customer Age']), \n",
    "                                    df['Customer Age'])\n",
    "    df['Customer Age'] = np.where(df['Customer Age'] < 9, \n",
    "                                    mean_value, \n",
    "                                    df['Customer Age'])\n",
    "    df[\"Is Address Match\"] = (df[\"Shipping Address\"] == df[\"Billing Address\"]).astype(int)\n",
    "    df.drop(columns=[\"Transaction ID\", \"Customer ID\", \"Customer Location\",\n",
    "                     \"IP Address\", \"Transaction Date\",\"Shipping Address\",\"Billing Address\"], inplace=True)\n",
    "    int_col = df.select_dtypes(include=\"int\").columns\n",
    "    float_col = df.select_dtypes(include=\"float\").columns\n",
    "    df[int_col] = df[int_col].apply(pd.to_numeric, downcast='integer')\n",
    "    df[float_col] = df[float_col].apply(pd.to_numeric, downcast='float')\n",
    "    return df"
   ]
  },
  {
   "cell_type": "code",
   "execution_count": 15,
   "id": "bd576fcb",
   "metadata": {
    "execution": {
     "iopub.execute_input": "2024-04-14T03:05:21.686593Z",
     "iopub.status.busy": "2024-04-14T03:05:21.685750Z",
     "iopub.status.idle": "2024-04-14T03:05:23.055935Z",
     "shell.execute_reply": "2024-04-14T03:05:23.055046Z"
    },
    "papermill": {
     "duration": 1.453885,
     "end_time": "2024-04-14T03:05:23.058307",
     "exception": false,
     "start_time": "2024-04-14T03:05:21.604422",
     "status": "completed"
    },
    "tags": []
   },
   "outputs": [],
   "source": [
    "train_df = clean_data(train_df)"
   ]
  },
  {
   "cell_type": "code",
   "execution_count": 30,
   "id": "5698da6c",
   "metadata": {
    "execution": {
     "iopub.execute_input": "2024-04-14T03:05:59.756482Z",
     "iopub.status.busy": "2024-04-14T03:05:59.755578Z",
     "iopub.status.idle": "2024-04-14T03:05:59.865501Z",
     "shell.execute_reply": "2024-04-14T03:05:59.864742Z"
    },
    "papermill": {
     "duration": 0.202195,
     "end_time": "2024-04-14T03:05:59.867691",
     "exception": false,
     "start_time": "2024-04-14T03:05:59.665496",
     "status": "completed"
    },
    "tags": []
   },
   "outputs": [],
   "source": [
    "train_data = train_df.drop(columns=[\"Is Fraudulent\"])\n",
    "train_label = train_df[\"Is Fraudulent\"]\n",
    "\n",
    "clean_test_df = clean_data(test_df)\n",
    "test_data = clean_test_df.drop(columns=[\"Is Fraudulent\"])\n",
    "test_label = clean_test_df[\"Is Fraudulent\"]"
   ]
  },
  {
   "cell_type": "code",
   "execution_count": 31,
   "id": "f9673efb",
   "metadata": {
    "execution": {
     "iopub.execute_input": "2024-04-14T03:06:00.049689Z",
     "iopub.status.busy": "2024-04-14T03:06:00.049327Z",
     "iopub.status.idle": "2024-04-14T03:06:00.103206Z",
     "shell.execute_reply": "2024-04-14T03:06:00.102420Z"
    },
    "papermill": {
     "duration": 0.146452,
     "end_time": "2024-04-14T03:06:00.105091",
     "exception": false,
     "start_time": "2024-04-14T03:05:59.958639",
     "status": "completed"
    },
    "tags": []
   },
   "outputs": [],
   "source": [
    "cat_col = train_data.select_dtypes(include=\"O\").columns\n",
    "num_col = []\n",
    "for col in train_data.columns:\n",
    "    if col not in cat_col  and col != 'Is Address Match':\n",
    "        num_col.append(col)"
   ]
  },
  {
   "cell_type": "code",
   "execution_count": 32,
   "id": "5e621f74",
   "metadata": {
    "execution": {
     "iopub.execute_input": "2024-04-14T03:06:00.288405Z",
     "iopub.status.busy": "2024-04-14T03:06:00.288031Z",
     "iopub.status.idle": "2024-04-14T03:06:00.292808Z",
     "shell.execute_reply": "2024-04-14T03:06:00.291953Z"
    },
    "papermill": {
     "duration": 0.098599,
     "end_time": "2024-04-14T03:06:00.294597",
     "exception": false,
     "start_time": "2024-04-14T03:06:00.195998",
     "status": "completed"
    },
    "tags": []
   },
   "outputs": [],
   "source": [
    "transformer = ColumnTransformer(transformers=[\n",
    "    ('encoding',OneHotEncoder(),cat_col),\n",
    "    ('scaling',StandardScaler(),num_col)\n",
    "],remainder='passthrough')"
   ]
  },
  {
   "cell_type": "code",
   "execution_count": 33,
   "id": "eeb1346b",
   "metadata": {
    "execution": {
     "iopub.execute_input": "2024-04-14T03:06:00.479671Z",
     "iopub.status.busy": "2024-04-14T03:06:00.479265Z",
     "iopub.status.idle": "2024-04-14T03:06:00.484194Z",
     "shell.execute_reply": "2024-04-14T03:06:00.483404Z"
    },
    "papermill": {
     "duration": 0.101669,
     "end_time": "2024-04-14T03:06:00.486081",
     "exception": false,
     "start_time": "2024-04-14T03:06:00.384412",
     "status": "completed"
    },
    "tags": []
   },
   "outputs": [],
   "source": [
    "classifiers = {\n",
    "    \"Logistic Regression\" : LogisticRegression(),\n",
    "    \"Bernoulli NB\" : BernoulliNB(),\n",
    "    \"Decision Tree\" : DecisionTreeClassifier(),\n",
    "    \"Random Forest\" : RandomForestClassifier(),\n",
    "    \"XGB\": XGBClassifier()\n",
    "}"
   ]
  },
  {
   "cell_type": "code",
   "execution_count": null,
   "id": "bc096091",
   "metadata": {
    "execution": {
     "iopub.execute_input": "2024-04-14T03:06:00.672058Z",
     "iopub.status.busy": "2024-04-14T03:06:00.671307Z",
     "iopub.status.idle": "2024-04-14T03:13:07.227771Z",
     "shell.execute_reply": "2024-04-14T03:13:07.226385Z"
    },
    "papermill": {
     "duration": 426.650215,
     "end_time": "2024-04-14T03:13:07.230090",
     "exception": false,
     "start_time": "2024-04-14T03:06:00.579875",
     "status": "completed"
    },
    "tags": []
   },
   "outputs": [],
   "source": [
    "classifier_name = []\n",
    "accuracy = []\n",
    "for name, classifier in classifiers.items():\n",
    "    \n",
    "    model = Pipeline(steps=[\n",
    "        ('transformer',transformer),\n",
    "        ('classifier',classifier)\n",
    "    ])\n",
    "    \n",
    "    start_time = time.time()\n",
    "    \n",
    "    model.fit(train_data, train_label)\n",
    "    \n",
    "    training_time = time.time() - start_time\n",
    "    \n",
    "    test_pred = model.predict(test_data)\n",
    "        \n",
    "    acc_score = accuracy_score(test_label, test_pred)\n",
    "    conf_mat = confusion_matrix(test_label, test_pred)\n",
    "    class_report = classification_report(test_label, test_pred)\n",
    "    print(f\"Classifier name : {name}\")\n",
    "    print(f\"Accuracy score : {acc_score}\")\n",
    "    print(f\"Confusion maxtrix : \\n{conf_mat}\")\n",
    "    print(f\"Classification report :\\n{class_report}\")\n",
    "    print(f\"{name} Training time: {training_time:.2f} seconds\")\n",
    "    print(\"=\"*55)\n",
    "    \n",
    "    classifier_name.append(name)\n",
    "    accuracy.append(acc_score)"
   ]
  },
  {
   "cell_type": "code",
   "execution_count": null,
   "id": "feae386f",
   "metadata": {
    "execution": {
     "iopub.execute_input": "2024-04-14T03:13:07.580814Z",
     "iopub.status.busy": "2024-04-14T03:13:07.579818Z",
     "iopub.status.idle": "2024-04-14T03:13:07.591426Z",
     "shell.execute_reply": "2024-04-14T03:13:07.590562Z"
    },
    "papermill": {
     "duration": 0.104898,
     "end_time": "2024-04-14T03:13:07.593413",
     "exception": false,
     "start_time": "2024-04-14T03:13:07.488515",
     "status": "completed"
    },
    "tags": []
   },
   "outputs": [],
   "source": [
    "pd.DataFrame({\"Classifier name\" : classifier_name, \"Accuracy\" : accuracy}).sort_values(by=\"Accuracy\",ascending=False)"
   ]
  },
  {
   "cell_type": "code",
   "execution_count": null,
   "id": "4ebfbcd7",
   "metadata": {
    "_kg_hide-output": true,
    "execution": {
     "iopub.execute_input": "2024-04-14T03:13:08.311539Z",
     "iopub.status.busy": "2024-04-14T03:13:08.311158Z",
     "iopub.status.idle": "2024-04-14T03:23:27.034440Z",
     "shell.execute_reply": "2024-04-14T03:23:27.033686Z"
    },
    "papermill": {
     "duration": 618.817626,
     "end_time": "2024-04-14T03:23:27.036357",
     "exception": false,
     "start_time": "2024-04-14T03:13:08.218731",
     "status": "completed"
    },
    "tags": []
   },
   "outputs": [],
   "source": [
    "def objective(trial):\n",
    "    \n",
    "    params = {\n",
    "        \"tree_method\": \"gpu_hist\", \n",
    "        \"learning_rate\": trial.suggest_float(\"learning_rate\", 0.001, 3.0),\n",
    "        \"n_estimators\": trial.suggest_int(\"n_estimators\", 100, 700),\n",
    "        \"max_depth\": trial.suggest_int(\"max_depth\", 3, 20),\n",
    "        \"min_child_weight\": trial.suggest_int(\"min_child_weight\", 1, 10),\n",
    "        \"gamma\": trial.suggest_float(\"gamma\", 0.0, 1.0),\n",
    "        \"subsample\": trial.suggest_float(\"subsample\", 0.01, 1.0),\n",
    "        \"colsample_bytree\": trial.suggest_float(\"colsample_bytree\", 0.01, 1.0),\n",
    "        \"reg_alpha\": trial.suggest_float(\"reg_alpha\", 0.0, 1.0),\n",
    "    }\n",
    "\n",
    "    \n",
    "    classifier = RandomForestClassifier(**params)\n",
    "    \n",
    "    model = Pipeline(steps=[\n",
    "        ('transformer',transformer),\n",
    "        ('classifier',classifier)\n",
    "    ])\n",
    "    model.fit(train_data, train_label)\n",
    "\n",
    "    preds = model.predict(test_data)\n",
    "    accuracy = accuracy_score(test_label, preds)\n",
    "\n",
    "    return accuracy\n",
    "\n",
    "\n",
    "study = optuna.create_study(direction=\"maximize\")\n",
    "study.optimize(objective, n_trials=70)\n",
    "\n",
    "\n",
    "best_params = study.best_params\n",
    "best_trial = study.best_trial\n",
    "\n",
    "print(\"Best Hyperparameters:\", best_params)\n",
    "print(\"Best Accuracy:\", best_trial.value)\n"
   ]
  }
 ],
 "metadata": {
  "kaggle": {
   "accelerator": "nvidiaTeslaT4",
   "dataSources": [
    {
     "datasetId": 4721793,
     "sourceId": 8049953,
     "sourceType": "datasetVersion"
    }
   ],
   "dockerImageVersionId": 30673,
   "isGpuEnabled": true,
   "isInternetEnabled": true,
   "language": "python",
   "sourceType": "notebook"
  },
  "kernelspec": {
   "display_name": ".venv",
   "language": "python",
   "name": "python3"
  },
  "language_info": {
   "codemirror_mode": {
    "name": "ipython",
    "version": 3
   },
   "file_extension": ".py",
   "mimetype": "text/x-python",
   "name": "python",
   "nbconvert_exporter": "python",
   "pygments_lexer": "ipython3",
   "version": "3.12.3"
  },
  "papermill": {
   "default_parameters": {},
   "duration": 1138.125988,
   "end_time": "2024-04-14T03:23:32.117563",
   "environment_variables": {},
   "exception": null,
   "input_path": "__notebook__.ipynb",
   "output_path": "__notebook__.ipynb",
   "parameters": {},
   "start_time": "2024-04-14T03:04:33.991575",
   "version": "2.5.0"
  }
 },
 "nbformat": 4,
 "nbformat_minor": 5
}
